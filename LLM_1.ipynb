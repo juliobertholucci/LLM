{
  "nbformat": 4,
  "nbformat_minor": 0,
  "metadata": {
    "colab": {
      "provenance": [],
      "authorship_tag": "ABX9TyP6kTASk0lNQ6y1zfOEhqlr",
      "include_colab_link": true
    },
    "kernelspec": {
      "name": "python3",
      "display_name": "Python 3"
    },
    "language_info": {
      "name": "python"
    }
  },
  "cells": [
    {
      "cell_type": "markdown",
      "metadata": {
        "id": "view-in-github",
        "colab_type": "text"
      },
      "source": [
        "<a href=\"https://colab.research.google.com/github/juliobertholucci/LLM/blob/main/LLM_1.ipynb\" target=\"_parent\"><img src=\"https://colab.research.google.com/assets/colab-badge.svg\" alt=\"Open In Colab\"/></a>"
      ]
    },
    {
      "cell_type": "code",
      "execution_count": null,
      "metadata": {
        "colab": {
          "base_uri": "https://localhost:8080/",
          "height": 351
        },
        "id": "VQXqEo-hy7Qc",
        "outputId": "790cbe39-2dc2-44cd-e41f-c3509b68687c"
      },
      "outputs": [
        {
          "output_type": "stream",
          "name": "stdout",
          "text": [
            "Digite sua frase... liste 10 paises com os maiores djs do mundo\n",
            "Resposta:  É impossível listar os 10 países com os \"maiores\" DJs do mundo, pois a fama e o impacto são subjetivos. No entanto, posso te dar uma lista de 10 países conhecidos por seus DJs de renome internacional:\n",
            "\n",
            "1. **Holanda:** A Holanda é conhecida como a \"capital da música eletrônica\", com muitos DJs famosos como Armin van Buuren, Tiësto, Martin Garrix, Afrojack e Hardwell.\n",
            "2. **Reino Unido:** O Reino Unido tem uma rica história de música eletrônica, com DJs como Carl Cox, Paul Oakenfold, Fatboy Slim e John Digweed.\n",
            "3. **Estados Unidos:** Os Estados Unidos têm uma cena eletrônica diversificada, com DJs como Deadmau5, Skrillex, Marshmello, Diplo e Kaskade.\n",
            "4. **França:** A França tem uma forte tradição em música eletrônica, com DJs como David Guetta, Bob Sinclar e DJ Snake.\n",
            "5. **Alemanha:** A Alemanha tem uma cena techno underground vibrante, com DJs como Paul van Dyk, Sven Väth e Richie Hawtin.\n",
            "6. **Bélgica:** A Bélgica tem um cenário de música eletrônica diversificado, com DJs como Dimitri Vegas & Like Mike, Lost Frequencies e Netsky.\n",
            "7. **Itália:** A Itália tem um cenário de música eletrônica vibrante, com DJs como Marco Carola, Eric Prydz e Benny Benassi.\n",
            "8. **Suécia:** A Suécia tem uma cena eletrônica underground forte, com DJs como Avicii (falecido), Alesso e Otto Knows.\n",
            "9. **Austrália:** A Austrália tem uma cena de música eletrônica vibrante, com DJs como Flume, Peking Duk e Hayden James.\n",
            "10. **Brasil:** O Brasil tem uma cena de música eletrônica em rápido crescimento, com DJs como Alok, Vintage Culture e Bhaskar.\n",
            "\n",
            "Vale lembrar que esta é apenas uma pequena amostra da rica diversidade da música eletrônica global, e muitos outros países têm DJs talentosos e inovadores. \n",
            " \n",
            "\n"
          ]
        }
      ],
      "source": [
        "\"\"\"\n",
        "Install the Google AI Python SDK\n",
        "\n",
        "$ pip install google-generativeai\n",
        "\n",
        "See the getting started guide for more information:\n",
        "https://ai.google.dev/gemini-api/docs/get-started/python\n",
        "\"\"\"\n",
        "\n",
        "import os\n",
        "\n",
        "import google.generativeai as genai\n",
        "from google.colab import userdata\n",
        "api_key = userdata.get('SECRET_KEY')\n",
        "genai.configure(api_key=api_key)\n",
        "\n",
        "# Create the model\n",
        "# See https://ai.google.dev/api/python/google/generativeai/GenerativeModel\n",
        "generation_config = {\n",
        "  \"temperature\": 1,\n",
        "  \"top_p\": 0.95,\n",
        "  \"top_k\": 64,\n",
        "  \"max_output_tokens\": 8192,\n",
        "  \"response_mime_type\": \"text/plain\",\n",
        "}\n",
        "safety_settings = [\n",
        "  {\n",
        "    \"category\": \"HARM_CATEGORY_HARASSMENT\",\n",
        "    \"threshold\": \"BLOCK_MEDIUM_AND_ABOVE\",\n",
        "  },\n",
        "  {\n",
        "    \"category\": \"HARM_CATEGORY_HATE_SPEECH\",\n",
        "    \"threshold\": \"BLOCK_MEDIUM_AND_ABOVE\",\n",
        "  },\n",
        "  {\n",
        "    \"category\": \"HARM_CATEGORY_SEXUALLY_EXPLICIT\",\n",
        "    \"threshold\": \"BLOCK_MEDIUM_AND_ABOVE\",\n",
        "  },\n",
        "  {\n",
        "    \"category\": \"HARM_CATEGORY_DANGEROUS_CONTENT\",\n",
        "    \"threshold\": \"BLOCK_MEDIUM_AND_ABOVE\",\n",
        "  },\n",
        "]\n",
        "\n",
        "model = genai.GenerativeModel(\n",
        "  model_name=\"gemini-1.5-flash-latest\",\n",
        "  safety_settings=safety_settings,\n",
        "  generation_config=generation_config,\n",
        ")\n",
        "\n",
        "chat_session = model.start_chat(\n",
        "  history=[\n",
        "  ]\n",
        ")\n",
        "\n",
        "prompt = input(\"Digite sua frase... \")\n",
        "\n",
        "while prompt != \"fim\":\n",
        "\n",
        "  response = chat_session.send_message(prompt)\n",
        "  print(\"Resposta: \", response.text, \"\\n\" )\n",
        "  prompt = input(\"Esperando prompt: \")\n",
        "  print(response.text)\n",
        "  print(chat_session.history)"
      ]
    }
  ]
}